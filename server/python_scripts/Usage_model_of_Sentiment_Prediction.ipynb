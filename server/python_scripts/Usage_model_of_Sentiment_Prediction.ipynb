{
  "cells": [
    {
      "cell_type": "code",
      "execution_count": 15,
      "id": "9e88db0c-169e-42c1-815f-98996114390f",
      "metadata": {
        "id": "9e88db0c-169e-42c1-815f-98996114390f"
      },
      "outputs": [],
      "source": [
        "from joblib import load\n",
        "from sklearn.feature_extraction.text import CountVectorizer\n",
        "\n",
        "model = load('Sentiment Analysis Predictor.joblib')\n",
        "vectorizer = load('vectorizer.joblib')"
      ]
    },
    {
      "cell_type": "code",
      "execution_count": 17,
      "id": "e36f9a25-246d-46f4-ad94-b4fc77d99707",
      "metadata": {
        "id": "e36f9a25-246d-46f4-ad94-b4fc77d99707",
        "colab": {
          "base_uri": "https://localhost:8080/"
        },
        "outputId": "742ad1a6-65cb-4db4-b192-09ba0005ef35"
      },
      "outputs": [
        {
          "output_type": "stream",
          "name": "stdout",
          "text": [
            "Enter your comment: she spend 5 hours in facebook\n",
            "Your Sentiment is: Negative\n"
          ]
        }
      ],
      "source": [
        "new_comment = str(input(\"Enter your comment: \"))\n",
        "new_comment_vec = vectorizer.transform([new_comment])\n",
        "prediction = model.predict(new_comment_vec)\n",
        "if prediction == 1:\n",
        "  print(\"Your Sentiment is: Negative\")\n",
        "elif prediction == 3:\n",
        "  print(\"Your Sentiment is: Positive\")\n",
        "elif prediction == 2:\n",
        "  print(\"Your Sentiment is: Neutral\")\n",
        "elif prediction == 0:\n",
        "  print(\"Your Sentiment is: Irrelevant\")\n"
      ]
    },
    {
      "cell_type": "code",
      "source": [],
      "metadata": {
        "id": "b9R9VYiYlrcN"
      },
      "id": "b9R9VYiYlrcN",
      "execution_count": 11,
      "outputs": []
    }
  ],
  "metadata": {
    "colab": {
      "provenance": []
    },
    "kernelspec": {
      "display_name": "Python 3 (ipykernel)",
      "language": "python",
      "name": "python3"
    },
    "language_info": {
      "codemirror_mode": {
        "name": "ipython",
        "version": 3
      },
      "file_extension": ".py",
      "mimetype": "text/x-python",
      "name": "python",
      "nbconvert_exporter": "python",
      "pygments_lexer": "ipython3",
      "version": "3.12.4"
    }
  },
  "nbformat": 4,
  "nbformat_minor": 5
}